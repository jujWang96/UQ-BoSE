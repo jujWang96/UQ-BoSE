{
 "cells": [
  {
   "cell_type": "code",
   "execution_count": null,
   "metadata": {},
   "outputs": [],
   "source": [
    "#this is the file reading data from 'galaxy_data' provided by Andreas "
   ]
  },
  {
   "cell_type": "code",
   "execution_count": 1,
   "metadata": {},
   "outputs": [],
   "source": [
    "\n",
    "from astropy.io import fits\n",
    "from astropy.utils.data import download_file\n",
    "from astropy.utils.data import get_pkg_data_filename\n",
    "import matplotlib.pyplot as plt\n",
    "from astropy.visualization import astropy_mpl_style\n",
    "from astropy.table import Table\n",
    "from scipy.io import savemat\n",
    "import numpy as np"
   ]
  },
  {
   "cell_type": "code",
   "execution_count": 2,
   "metadata": {},
   "outputs": [],
   "source": [
    "#filename = 'ngc2300_box_058kev_evt2'\n",
    "filename = 'Arp299_merged_evt2_box'"
   ]
  },
  {
   "cell_type": "code",
   "execution_count": 3,
   "metadata": {},
   "outputs": [],
   "source": [
    "image_file = get_pkg_data_filename(filename+'.fits')\n",
    "hdulist = fits.open(filename+'.fits')"
   ]
  },
  {
   "cell_type": "code",
   "execution_count": 4,
   "metadata": {},
   "outputs": [
    {
     "name": "stdout",
     "output_type": "stream",
     "text": [
      "Filename: Arp299_merged_evt2_box.fits\n",
      "No.    Name      Ver    Type      Cards   Dimensions   Format\n",
      "  0  PRIMARY       1 PrimaryHDU      30   ()      \n",
      "  1  EVENTS        1 BinTableHDU    899   27986R x 19C   [1D, 1I, 1I, 1J, 1I, 1I, 1I, 1I, 1E, 1E, 1E, 1E, 1J, 1J, 1E, 1J, 1I, 1I, 32X]   \n",
      "  2  GTI           7 BinTableHDU     28   2R x 2C   [1D, 1D]   \n",
      "  3  GTI           6 BinTableHDU     28   5R x 2C   [1D, 1D]   \n",
      "  4  GTI           3 BinTableHDU     28   3R x 2C   [1D, 1D]   \n",
      "  5  GTI           2 BinTableHDU     28   4R x 2C   [1D, 1D]   \n"
     ]
    }
   ],
   "source": [
    "fits.info(image_file)"
   ]
  },
  {
   "cell_type": "code",
   "execution_count": 5,
   "metadata": {},
   "outputs": [],
   "source": [
    "hdudata = hdulist[1].data\n",
    "hduheader = hdulist[1].header"
   ]
  },
  {
   "cell_type": "code",
   "execution_count": 6,
   "metadata": {
    "scrolled": true
   },
   "outputs": [
    {
     "data": {
      "text/html": [
       "<i>Table length=27986</i>\n",
       "<table id=\"table140501231752272\" class=\"table-striped table-bordered table-condensed\">\n",
       "<thead><tr><th>time</th><th>ccd_id</th><th>node_id</th><th>expno</th><th>chipx</th><th>chipy</th><th>tdetx</th><th>tdety</th><th>detx</th><th>dety</th><th>x</th><th>y</th><th>pha</th><th>pha_ro</th><th>energy</th><th>pi</th><th>fltgrade</th><th>grade</th><th>status [32]</th></tr></thead>\n",
       "<thead><tr><th>float64</th><th>int16</th><th>int16</th><th>int32</th><th>int16</th><th>int16</th><th>int16</th><th>int16</th><th>float32</th><th>float32</th><th>float32</th><th>float32</th><th>int32</th><th>int32</th><th>float32</th><th>int32</th><th>int16</th><th>int16</th><th>bool</th></tr></thead>\n",
       "<tr><td>479600453.00675136</td><td>7</td><td>0</td><td>3</td><td>73</td><td>398</td><td>3990</td><td>2100</td><td>3987.5498</td><td>4195.479</td><td>4189.824</td><td>3983.1455</td><td>571</td><td>554</td><td>2564.3623</td><td>176</td><td>16</td><td>4</td><td>False .. False</td></tr>\n",
       "<tr><td>479600453.00675136</td><td>7</td><td>0</td><td>3</td><td>152</td><td>520</td><td>4069</td><td>2222</td><td>4066.2957</td><td>4073.3218</td><td>4111.3916</td><td>4105.504</td><td>959</td><td>917</td><td>4300.235</td><td>295</td><td>80</td><td>6</td><td>False .. False</td></tr>\n",
       "<tr><td>479600468.7119526</td><td>7</td><td>0</td><td>8</td><td>148</td><td>521</td><td>4065</td><td>2223</td><td>4062.0266</td><td>4072.9822</td><td>4115.097</td><td>4107.1353</td><td>248</td><td>240</td><td>1131.4479</td><td>78</td><td>2</td><td>2</td><td>False .. False</td></tr>\n",
       "<tr><td>479600471.8529927</td><td>7</td><td>0</td><td>9</td><td>205</td><td>517</td><td>4122</td><td>2219</td><td>4119.342</td><td>4076.9602</td><td>4057.6802</td><td>4103.6504</td><td>694</td><td>649</td><td>3112.9211</td><td>214</td><td>22</td><td>6</td><td>False .. False</td></tr>\n",
       "<tr><td>479600471.8529927</td><td>7</td><td>0</td><td>9</td><td>158</td><td>550</td><td>4075</td><td>2252</td><td>4071.9944</td><td>4043.2712</td><td>4105.114</td><td>4137.218</td><td>217</td><td>197</td><td>992.5736</td><td>68</td><td>64</td><td>2</td><td>False .. False</td></tr>\n",
       "<tr><td>479600481.2761133</td><td>7</td><td>0</td><td>12</td><td>191</td><td>463</td><td>4108</td><td>2165</td><td>4104.9995</td><td>4130.894</td><td>4071.5718</td><td>4050.576</td><td>138</td><td>121</td><td>636.4014</td><td>44</td><td>2</td><td>2</td><td>False .. False</td></tr>\n",
       "<tr><td>479600487.5581936</td><td>7</td><td>0</td><td>14</td><td>152</td><td>531</td><td>4069</td><td>2233</td><td>4066.3303</td><td>4062.3003</td><td>4110.3096</td><td>4119.8013</td><td>274</td><td>249</td><td>1247.8052</td><td>86</td><td>80</td><td>6</td><td>False .. False</td></tr>\n",
       "<tr><td>479600493.8402739</td><td>7</td><td>0</td><td>16</td><td>149</td><td>546</td><td>4066</td><td>2248</td><td>4062.9995</td><td>4048.0688</td><td>4113.5493</td><td>4134.752</td><td>81</td><td>68</td><td>386.55884</td><td>27</td><td>2</td><td>2</td><td>False .. False</td></tr>\n",
       "<tr><td>479600503.26339453</td><td>7</td><td>0</td><td>19</td><td>121</td><td>527</td><td>4038</td><td>2229</td><td>4035.3848</td><td>4066.3008</td><td>4141.015</td><td>4117.542</td><td>206</td><td>183</td><td>945.1632</td><td>65</td><td>80</td><td>6</td><td>False .. False</td></tr>\n",
       "<tr><td>479600509.5454747</td><td>7</td><td>0</td><td>21</td><td>150</td><td>519</td><td>4067</td><td>2221</td><td>4064.016</td><td>4074.6047</td><td>4112.3203</td><td>4110.099</td><td>235</td><td>213</td><td>1074.3457</td><td>74</td><td>0</td><td>0</td><td>False .. False</td></tr>\n",
       "<tr><td>...</td><td>...</td><td>...</td><td>...</td><td>...</td><td>...</td><td>...</td><td>...</td><td>...</td><td>...</td><td>...</td><td>...</td><td>...</td><td>...</td><td>...</td><td>...</td><td>...</td><td>...</td><td>...</td></tr>\n",
       "<tr><td>479557114.88913894</td><td>7</td><td>0</td><td>12404</td><td>164</td><td>509</td><td>4081</td><td>2211</td><td>4081.4653</td><td>4085.8623</td><td>4124.2026</td><td>4098.2046</td><td>167</td><td>148</td><td>765.3419</td><td>53</td><td>0</td><td>0</td><td>False .. False</td></tr>\n",
       "<tr><td>479557118.0301591</td><td>7</td><td>0</td><td>12405</td><td>108</td><td>429</td><td>4025</td><td>2131</td><td>4025.5906</td><td>4165.7837</td><td>4179.7056</td><td>4017.757</td><td>189</td><td>168</td><td>868.7742</td><td>60</td><td>0</td><td>0</td><td>False .. False</td></tr>\n",
       "<tr><td>479557118.0301591</td><td>7</td><td>0</td><td>12405</td><td>177</td><td>529</td><td>4094</td><td>2231</td><td>4094.7688</td><td>4065.5413</td><td>4110.787</td><td>4118.1777</td><td>213</td><td>187</td><td>972.56476</td><td>67</td><td>80</td><td>6</td><td>False .. False</td></tr>\n",
       "<tr><td>479557121.17118925</td><td>7</td><td>0</td><td>12406</td><td>209</td><td>516</td><td>4126</td><td>2218</td><td>4126.3936</td><td>4078.4614</td><td>4078.9197</td><td>4105.007</td><td>260</td><td>237</td><td>1179.8062</td><td>81</td><td>64</td><td>2</td><td>False .. False</td></tr>\n",
       "<tr><td>479557121.17118925</td><td>7</td><td>0</td><td>12406</td><td>69</td><td>531</td><td>3986</td><td>2233</td><td>3986.5757</td><td>4063.5835</td><td>4218.776</td><td>4119.5234</td><td>960</td><td>927</td><td>4296.4604</td><td>295</td><td>64</td><td>2</td><td>False .. False</td></tr>\n",
       "<tr><td>479557121.17118925</td><td>7</td><td>0</td><td>12406</td><td>126</td><td>575</td><td>4043</td><td>2277</td><td>4043.8506</td><td>4019.9683</td><td>4161.614</td><td>4163.286</td><td>163</td><td>137</td><td>754.74243</td><td>52</td><td>16</td><td>4</td><td>False .. False</td></tr>\n",
       "<tr><td>479557140.0173304</td><td>7</td><td>1</td><td>12412</td><td>301</td><td>496</td><td>4218</td><td>2198</td><td>4218.2817</td><td>4099.0986</td><td>3985.7656</td><td>4082.6626</td><td>746</td><td>702</td><td>3517.6514</td><td>241</td><td>2</td><td>2</td><td>False .. False</td></tr>\n",
       "<tr><td>479557140.0173304</td><td>7</td><td>0</td><td>12412</td><td>226</td><td>541</td><td>4143</td><td>2243</td><td>4143.3555</td><td>4053.4788</td><td>4060.8096</td><td>4128.089</td><td>282</td><td>255</td><td>1283.8196</td><td>88</td><td>64</td><td>2</td><td>False .. False</td></tr>\n",
       "<tr><td>479557143.1583605</td><td>7</td><td>0</td><td>12413</td><td>146</td><td>428</td><td>4063</td><td>2130</td><td>4063.8127</td><td>4167.026</td><td>4139.8223</td><td>4014.0535</td><td>486</td><td>453</td><td>2190.0244</td><td>151</td><td>18</td><td>6</td><td>False .. False</td></tr>\n",
       "<tr><td>479557158.8634814</td><td>7</td><td>0</td><td>12418</td><td>195</td><td>495</td><td>4112</td><td>2197</td><td>4112.4414</td><td>4099.8203</td><td>4090.1685</td><td>4080.0776</td><td>165</td><td>146</td><td>756.735</td><td>52</td><td>0</td><td>0</td><td>False .. False</td></tr>\n",
       "</table>"
      ],
      "text/plain": [
       "<Table length=27986>\n",
       "       time        ccd_id node_id expno ...   pi  fltgrade grade  status [32]  \n",
       "     float64       int16   int16  int32 ... int32  int16   int16      bool     \n",
       "------------------ ------ ------- ----- ... ----- -------- ----- --------------\n",
       "479600453.00675136      7       0     3 ...   176       16     4 False .. False\n",
       "479600453.00675136      7       0     3 ...   295       80     6 False .. False\n",
       " 479600468.7119526      7       0     8 ...    78        2     2 False .. False\n",
       " 479600471.8529927      7       0     9 ...   214       22     6 False .. False\n",
       " 479600471.8529927      7       0     9 ...    68       64     2 False .. False\n",
       " 479600481.2761133      7       0    12 ...    44        2     2 False .. False\n",
       " 479600487.5581936      7       0    14 ...    86       80     6 False .. False\n",
       " 479600493.8402739      7       0    16 ...    27        2     2 False .. False\n",
       "479600503.26339453      7       0    19 ...    65       80     6 False .. False\n",
       " 479600509.5454747      7       0    21 ...    74        0     0 False .. False\n",
       "               ...    ...     ...   ... ...   ...      ...   ...            ...\n",
       "479557114.88913894      7       0 12404 ...    53        0     0 False .. False\n",
       " 479557118.0301591      7       0 12405 ...    60        0     0 False .. False\n",
       " 479557118.0301591      7       0 12405 ...    67       80     6 False .. False\n",
       "479557121.17118925      7       0 12406 ...    81       64     2 False .. False\n",
       "479557121.17118925      7       0 12406 ...   295       64     2 False .. False\n",
       "479557121.17118925      7       0 12406 ...    52       16     4 False .. False\n",
       " 479557140.0173304      7       1 12412 ...   241        2     2 False .. False\n",
       " 479557140.0173304      7       0 12412 ...    88       64     2 False .. False\n",
       " 479557143.1583605      7       0 12413 ...   151       18     6 False .. False\n",
       " 479557158.8634814      7       0 12418 ...    52        0     0 False .. False"
      ]
     },
     "execution_count": 6,
     "metadata": {},
     "output_type": "execute_result"
    }
   ],
   "source": [
    "mytab= Table(hdudata)\n",
    "mytab"
   ]
  },
  {
   "cell_type": "code",
   "execution_count": 7,
   "metadata": {},
   "outputs": [],
   "source": [
    "X = np.array(mytab['x'])\n",
    "Y = np.array(mytab['y'])"
   ]
  },
  {
   "cell_type": "code",
   "execution_count": 8,
   "metadata": {},
   "outputs": [],
   "source": [
    "xmin = min(X)\n",
    "xmax = max(X)\n",
    "ymin = min(Y)\n",
    "ymax = max(Y)\n",
    "#x = X[(X>xmin) & (X<xmax) & (Y>ymin) & (Y<ymax)]\n",
    "#y = Y[(X>xmin) & (X<xmax) & (Y>ymin) & (Y<ymax)]"
   ]
  },
  {
   "cell_type": "code",
   "execution_count": 9,
   "metadata": {},
   "outputs": [
    {
     "data": {
      "text/plain": [
       "('3939.043212890625',\n",
       " '4232.990234375000',\n",
       " '3961.005615234375',\n",
       " '4256.991210937500')"
      ]
     },
     "execution_count": 9,
     "metadata": {},
     "output_type": "execute_result"
    }
   ],
   "source": [
    "(\"%.12f\" %xmin,\"%.12f\" %xmax,\"%.12f\" %ymin,\"%.12f\" %ymax)\n"
   ]
  },
  {
   "cell_type": "code",
   "execution_count": null,
   "metadata": {},
   "outputs": [],
   "source": [
    "xmin = 25160.5-3520 \n",
    "xmax = 25160.5+3520\n",
    "ymin = 27843.5-3520 \n",
    "ymax = 27843.5+3520"
   ]
  },
  {
   "cell_type": "code",
   "execution_count": 29,
   "metadata": {},
   "outputs": [],
   "source": [
    "\n",
    "x = (x-xmin)/(xmax-xmin)\n",
    "y = (y-ymin)/(ymax-ymin)"
   ]
  },
  {
   "cell_type": "code",
   "execution_count": 30,
   "metadata": {},
   "outputs": [
    {
     "data": {
      "text/plain": [
       "array([0.85315037, 0.5863247 , 0.5989309 , ..., 0.41424593, 0.683045  ,\n",
       "       0.5141241 ], dtype=float32)"
      ]
     },
     "execution_count": 30,
     "metadata": {},
     "output_type": "execute_result"
    }
   ],
   "source": [
    "x"
   ]
  },
  {
   "cell_type": "code",
   "execution_count": 11,
   "metadata": {
    "scrolled": true
   },
   "outputs": [],
   "source": [
    "X_scaled =  np.array([x,y])\n",
    "X_scaled = X_scaled.transpose()"
   ]
  },
  {
   "cell_type": "code",
   "execution_count": 12,
   "metadata": {},
   "outputs": [],
   "source": [
    "X_scaled = {\"X\":X_scaled}\n",
    "\n",
    "outfile = filename+\"_scaled.mat\"\n",
    "savemat(outfile, X_scaled)"
   ]
  },
  {
   "cell_type": "code",
   "execution_count": null,
   "metadata": {},
   "outputs": [],
   "source": []
  }
 ],
 "metadata": {
  "kernelspec": {
   "display_name": "Python 3",
   "language": "python",
   "name": "python3"
  },
  "language_info": {
   "codemirror_mode": {
    "name": "ipython",
    "version": 3
   },
   "file_extension": ".py",
   "mimetype": "text/x-python",
   "name": "python",
   "nbconvert_exporter": "python",
   "pygments_lexer": "ipython3",
   "version": "3.8.8"
  }
 },
 "nbformat": 4,
 "nbformat_minor": 4
}
